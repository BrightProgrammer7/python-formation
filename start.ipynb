{
 "cells": [
  {
   "cell_type": "code",
   "execution_count": 21,
   "id": "d0e4edf7",
   "metadata": {},
   "outputs": [
    {
     "name": "stdout",
     "output_type": "stream",
     "text": [
      "Hello World\n"
     ]
    }
   ],
   "source": [
    "print(\"Hello World\")"
   ]
  },
  {
   "cell_type": "code",
   "execution_count": 22,
   "id": "5bd69b10",
   "metadata": {},
   "outputs": [
    {
     "name": "stdout",
     "output_type": "stream",
     "text": [
      "Abdelilah has 20 years old\n"
     ]
    }
   ],
   "source": [
    "name = \"Abdelilah\"\n",
    "age = 20\n",
    "print(f\"{name} has {age} years old\")"
   ]
  },
  {
   "cell_type": "code",
   "execution_count": 23,
   "id": "a109aa35",
   "metadata": {},
   "outputs": [
    {
     "name": "stdout",
     "output_type": "stream",
     "text": [
      "Abdelilah likes his life\n"
     ]
    }
   ],
   "source": [
    "name = \"Abdelilah\"\n",
    "print(name + \" likes his life\")"
   ]
  },
  {
   "cell_type": "code",
   "execution_count": 24,
   "id": "894e0725",
   "metadata": {},
   "outputs": [
    {
     "name": "stdout",
     "output_type": "stream",
     "text": [
      "ABDELILAH has 9 characters\n"
     ]
    }
   ],
   "source": [
    "name = \"Abdelilah\"\n",
    "print(name.upper() , \"has\" , len(name) , \"characters\")\n"
   ]
  },
  {
   "cell_type": "code",
   "execution_count": 25,
   "id": "1318b558",
   "metadata": {},
   "outputs": [
    {
     "name": "stdout",
     "output_type": "stream",
     "text": [
      "Abdelilah has 20 years old\n"
     ]
    }
   ],
   "source": [
    "name = \"Abdelilah\"\n",
    "age = 20\n",
    "print(\"{} has {} years old\".format(name,age))                                                                                                                                                                                                     "
   ]
  },
  {
   "cell_type": "code",
   "execution_count": 39,
   "id": "f37a7eff",
   "metadata": {},
   "outputs": [
    {
     "data": {
      "text/plain": [
       "3.0"
      ]
     },
     "execution_count": 39,
     "metadata": {},
     "output_type": "execute_result"
    }
   ],
   "source": [
    "number =  3\n",
    "float(number)"
   ]
  },
  {
   "cell_type": "code",
   "execution_count": 27,
   "id": "cf313a1c",
   "metadata": {},
   "outputs": [],
   "source": [
    "from math import *"
   ]
  },
  {
   "cell_type": "code",
   "execution_count": 28,
   "id": "de686522",
   "metadata": {},
   "outputs": [
    {
     "data": {
      "text/plain": [
       "1.7320508075688772"
      ]
     },
     "execution_count": 28,
     "metadata": {},
     "output_type": "execute_result"
    }
   ],
   "source": [
    "sqrt(number)"
   ]
  },
  {
   "cell_type": "code",
   "execution_count": 29,
   "id": "fa9fa397",
   "metadata": {},
   "outputs": [
    {
     "data": {
      "text/plain": [
       "4"
      ]
     },
     "execution_count": 29,
     "metadata": {},
     "output_type": "execute_result"
    }
   ],
   "source": [
    "num = 3.3\n",
    "ceil(num)"
   ]
  },
  {
   "cell_type": "code",
   "execution_count": 30,
   "id": "1942d025",
   "metadata": {},
   "outputs": [
    {
     "data": {
      "text/plain": [
       "3"
      ]
     },
     "execution_count": 30,
     "metadata": {},
     "output_type": "execute_result"
    }
   ],
   "source": [
    "floor(num)"
   ]
  },
  {
   "cell_type": "code",
   "execution_count": 40,
   "id": "a152aa66",
   "metadata": {},
   "outputs": [
    {
     "data": {
      "text/plain": [
       "3"
      ]
     },
     "execution_count": 40,
     "metadata": {},
     "output_type": "execute_result"
    }
   ],
   "source": [
    "nbr = float(number) \n",
    "round(nbr)"
   ]
  },
  {
   "cell_type": "code",
   "execution_count": 31,
   "id": "3b42eab7",
   "metadata": {},
   "outputs": [
    {
     "data": {
      "text/plain": [
       "8"
      ]
     },
     "execution_count": 31,
     "metadata": {},
     "output_type": "execute_result"
    }
   ],
   "source": [
    "a = 2\n",
    "b = 5\n",
    "c = 8\n",
    "max(a,b,c)"
   ]
  },
  {
   "cell_type": "code",
   "execution_count": 32,
   "id": "f7f10bca",
   "metadata": {},
   "outputs": [
    {
     "data": {
      "text/plain": [
       "2"
      ]
     },
     "execution_count": 32,
     "metadata": {},
     "output_type": "execute_result"
    }
   ],
   "source": [
    "min(a,b,c)"
   ]
  },
  {
   "cell_type": "code",
   "execution_count": 43,
   "id": "36384539",
   "metadata": {},
   "outputs": [
    {
     "name": "stdout",
     "output_type": "stream",
     "text": [
      "Abdelilah has 20 years old\n"
     ]
    }
   ],
   "source": [
    "name = input(\"Enter your name:\")\n",
    "age = input(\"Enter your age:\")\n",
    "\n",
    "print(\"{} has {} years old\".format(name,age))   "
   ]
  }
 ],
 "metadata": {
  "kernelspec": {
   "display_name": "Python 3 (ipykernel)",
   "language": "python",
   "name": "python3"
  },
  "language_info": {
   "codemirror_mode": {
    "name": "ipython",
    "version": 3
   },
   "file_extension": ".py",
   "mimetype": "text/x-python",
   "name": "python",
   "nbconvert_exporter": "python",
   "pygments_lexer": "ipython3",
   "version": "3.11.3"
  }
 },
 "nbformat": 4,
 "nbformat_minor": 5
}
