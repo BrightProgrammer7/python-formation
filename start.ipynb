{
 "cells": [
  {
   "cell_type": "markdown",
   "id": "c61deafc",
   "metadata": {},
   "source": [
    "The Basics of Python"
   ]
  },
  {
   "cell_type": "code",
   "execution_count": 1,
   "id": "d0e4edf7",
   "metadata": {},
   "outputs": [
    {
     "name": "stdout",
     "output_type": "stream",
     "text": [
      "Hello World\n"
     ]
    }
   ],
   "source": [
    "print(\"Hello World\")"
   ]
  },
  {
   "cell_type": "code",
   "execution_count": 2,
   "id": "5bd69b10",
   "metadata": {},
   "outputs": [
    {
     "name": "stdout",
     "output_type": "stream",
     "text": [
      "Abdelilah has 20 years old\n"
     ]
    }
   ],
   "source": [
    "name = \"Abdelilah\"\n",
    "age = 20\n",
    "print(f\"{name} has {age} years old\")"
   ]
  },
  {
   "cell_type": "code",
   "execution_count": 3,
   "id": "a109aa35",
   "metadata": {},
   "outputs": [
    {
     "name": "stdout",
     "output_type": "stream",
     "text": [
      "Abdelilah likes his life\n"
     ]
    }
   ],
   "source": [
    "name = \"Abdelilah\"\n",
    "print(name + \" likes his life\")"
   ]
  },
  {
   "cell_type": "code",
   "execution_count": 4,
   "id": "894e0725",
   "metadata": {},
   "outputs": [
    {
     "name": "stdout",
     "output_type": "stream",
     "text": [
      "ABDELILAH has 9 characters\n"
     ]
    }
   ],
   "source": [
    "name = \"Abdelilah\"\n",
    "print(name.upper() , \"has\" , len(name) , \"characters\")\n"
   ]
  },
  {
   "cell_type": "code",
   "execution_count": 5,
   "id": "1318b558",
   "metadata": {},
   "outputs": [
    {
     "name": "stdout",
     "output_type": "stream",
     "text": [
      "Abdelilah has 20 years old\n"
     ]
    }
   ],
   "source": [
    "name = \"Abdelilah\"\n",
    "age = 20\n",
    "print(\"{} has {} years old\".format(name,age))                                                                                                                                                                                                     "
   ]
  },
  {
   "cell_type": "code",
   "execution_count": 6,
   "id": "f37a7eff",
   "metadata": {},
   "outputs": [
    {
     "data": {
      "text/plain": [
       "3.0"
      ]
     },
     "execution_count": 6,
     "metadata": {},
     "output_type": "execute_result"
    }
   ],
   "source": [
    "number =  3\n",
    "float(number)"
   ]
  },
  {
   "cell_type": "code",
   "execution_count": 7,
   "id": "cf313a1c",
   "metadata": {},
   "outputs": [],
   "source": [
    "from math import *"
   ]
  },
  {
   "cell_type": "code",
   "execution_count": 8,
   "id": "de686522",
   "metadata": {},
   "outputs": [
    {
     "data": {
      "text/plain": [
       "1.7320508075688772"
      ]
     },
     "execution_count": 8,
     "metadata": {},
     "output_type": "execute_result"
    }
   ],
   "source": [
    "sqrt(number)"
   ]
  },
  {
   "cell_type": "code",
   "execution_count": 9,
   "id": "fa9fa397",
   "metadata": {},
   "outputs": [
    {
     "data": {
      "text/plain": [
       "4"
      ]
     },
     "execution_count": 9,
     "metadata": {},
     "output_type": "execute_result"
    }
   ],
   "source": [
    "num = 3.3\n",
    "ceil(num)"
   ]
  },
  {
   "cell_type": "code",
   "execution_count": 10,
   "id": "1942d025",
   "metadata": {},
   "outputs": [
    {
     "data": {
      "text/plain": [
       "3"
      ]
     },
     "execution_count": 10,
     "metadata": {},
     "output_type": "execute_result"
    }
   ],
   "source": [
    "floor(num)"
   ]
  },
  {
   "cell_type": "code",
   "execution_count": 11,
   "id": "a152aa66",
   "metadata": {},
   "outputs": [
    {
     "data": {
      "text/plain": [
       "3"
      ]
     },
     "execution_count": 11,
     "metadata": {},
     "output_type": "execute_result"
    }
   ],
   "source": [
    "nbr = float(number) \n",
    "round(nbr)"
   ]
  },
  {
   "cell_type": "code",
   "execution_count": 12,
   "id": "3b42eab7",
   "metadata": {},
   "outputs": [
    {
     "data": {
      "text/plain": [
       "8"
      ]
     },
     "execution_count": 12,
     "metadata": {},
     "output_type": "execute_result"
    }
   ],
   "source": [
    "a = 2\n",
    "b = 5\n",
    "c = 8\n",
    "max(a,b,c)"
   ]
  },
  {
   "cell_type": "code",
   "execution_count": 13,
   "id": "f7f10bca",
   "metadata": {},
   "outputs": [
    {
     "data": {
      "text/plain": [
       "2"
      ]
     },
     "execution_count": 13,
     "metadata": {},
     "output_type": "execute_result"
    }
   ],
   "source": [
    "min(a,b,c)"
   ]
  },
  {
   "cell_type": "code",
   "execution_count": 14,
   "id": "36384539",
   "metadata": {},
   "outputs": [
    {
     "name": "stdout",
     "output_type": "stream",
     "text": [
      "Hello dg, you have 98 years old\n"
     ]
    }
   ],
   "source": [
    "name = input(\"Enter your name:\")\n",
    "age = input(\"Enter your age:\")\n",
    "\n",
    "print(\"Hello {}, you have {} years old\".format(name,age))   "
   ]
  },
  {
   "cell_type": "markdown",
   "id": "c9ead625",
   "metadata": {},
   "source": []
  }
 ],
 "metadata": {
  "kernelspec": {
   "display_name": "Python 3 (ipykernel)",
   "language": "python",
   "name": "python3"
  },
  "language_info": {
   "codemirror_mode": {
    "name": "ipython",
    "version": 3
   },
   "file_extension": ".py",
   "mimetype": "text/x-python",
   "name": "python",
   "nbconvert_exporter": "python",
   "pygments_lexer": "ipython3",
   "version": "3.11.3"
  }
 },
 "nbformat": 4,
 "nbformat_minor": 5
}
