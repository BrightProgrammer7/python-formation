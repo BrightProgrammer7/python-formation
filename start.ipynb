{
 "cells": [
  {
   "cell_type": "code",
   "execution_count": 1,
   "id": "d0e4edf7",
   "metadata": {},
   "outputs": [
    {
     "name": "stdout",
     "output_type": "stream",
     "text": [
      "Hello World\n"
     ]
    }
   ],
   "source": [
    "print(\"Hello World\")"
   ]
  },
  {
   "cell_type": "code",
   "execution_count": 2,
   "id": "5bd69b10",
   "metadata": {},
   "outputs": [
    {
     "name": "stdout",
     "output_type": "stream",
     "text": [
      "Abdelilah has 20 years old\n"
     ]
    }
   ],
   "source": [
    "name = \"Abdelilah\"\n",
    "age = 20\n",
    "print(f\"{name} has {age} years old\")"
   ]
  },
  {
   "cell_type": "code",
   "execution_count": 4,
   "id": "a109aa35",
   "metadata": {},
   "outputs": [
    {
     "name": "stdout",
     "output_type": "stream",
     "text": [
      "Abdelilah likes his life\n"
     ]
    }
   ],
   "source": [
    "name = \"Abdelilah\"\n",
    "print(name + \" likes his life\")"
   ]
  },
  {
   "cell_type": "code",
   "execution_count": 21,
   "id": "894e0725",
   "metadata": {},
   "outputs": [
    {
     "name": "stdout",
     "output_type": "stream",
     "text": [
      "ABDELILAH has 9 characters\n"
     ]
    }
   ],
   "source": [
    "name = \"Abdelilah\"\n",
    "print(name.upper() , \"has\" , len(name) , \"characters\")\n"
   ]
  },
  {
   "cell_type": "code",
   "execution_count": 22,
   "id": "1318b558",
   "metadata": {},
   "outputs": [
    {
     "name": "stdout",
     "output_type": "stream",
     "text": [
      "Abdelilah has 20 years old\n"
     ]
    }
   ],
   "source": [
    "name = \"Abdelilah\"\n",
    "age = 20\n",
    "print(\"{} has {} years old\".format(name,age))                                                                                                                                                                                                     "
   ]
  }
 ],
 "metadata": {
  "kernelspec": {
   "display_name": "Python 3 (ipykernel)",
   "language": "python",
   "name": "python3"
  },
  "language_info": {
   "codemirror_mode": {
    "name": "ipython",
    "version": 3
   },
   "file_extension": ".py",
   "mimetype": "text/x-python",
   "name": "python",
   "nbconvert_exporter": "python",
   "pygments_lexer": "ipython3",
   "version": "3.11.3"
  }
 },
 "nbformat": 4,
 "nbformat_minor": 5
}
