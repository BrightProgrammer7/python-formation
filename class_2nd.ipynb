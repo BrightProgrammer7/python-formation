{
 "cells": [
  {
   "cell_type": "markdown",
   "metadata": {},
   "source": [
    "Data Structure\n",
    "\n",
    "Lists\n"
   ]
  },
  {
   "cell_type": "code",
   "execution_count": 25,
   "metadata": {},
   "outputs": [
    {
     "data": {
      "text/plain": [
       "['sea', 'forest', 'nature', 'sky']"
      ]
     },
     "execution_count": 25,
     "metadata": {},
     "output_type": "execute_result"
    }
   ],
   "source": [
    "list = [\"sea\", \"forest\", \"nature\", \"sky\"]\n",
    "list"
   ]
  },
  {
   "cell_type": "code",
   "execution_count": 10,
   "metadata": {},
   "outputs": [
    {
     "data": {
      "text/plain": [
       "['forest', 'nature']"
      ]
     },
     "execution_count": 10,
     "metadata": {},
     "output_type": "execute_result"
    }
   ],
   "source": [
    "list[1:3]"
   ]
  },
  {
   "cell_type": "code",
   "execution_count": 11,
   "metadata": {},
   "outputs": [
    {
     "data": {
      "text/plain": [
       "['sea', 'forest', 'nature']"
      ]
     },
     "execution_count": 11,
     "metadata": {},
     "output_type": "execute_result"
    }
   ],
   "source": [
    "list[:-1]"
   ]
  },
  {
   "cell_type": "code",
   "execution_count": 12,
   "metadata": {},
   "outputs": [
    {
     "data": {
      "text/plain": [
       "['forest', 'nature', 'sea', 'sky']"
      ]
     },
     "execution_count": 12,
     "metadata": {},
     "output_type": "execute_result"
    }
   ],
   "source": [
    "list.sort()\n",
    "list"
   ]
  },
  {
   "cell_type": "code",
   "execution_count": 24,
   "metadata": {},
   "outputs": [
    {
     "data": {
      "text/plain": [
       "['mountain', 'sky', 'sea', 'nature', 'forest', 'mountain', 'mountain']"
      ]
     },
     "execution_count": 24,
     "metadata": {},
     "output_type": "execute_result"
    }
   ],
   "source": [
    "list.append(\"mountain\")\n",
    "list"
   ]
  },
  {
   "cell_type": "code",
   "execution_count": 18,
   "metadata": {},
   "outputs": [
    {
     "data": {
      "text/plain": [
       "[1, 4, 7, 3]"
      ]
     },
     "execution_count": 18,
     "metadata": {},
     "output_type": "execute_result"
    }
   ],
   "source": [
    "array = [1, 4, 7, 3]\n",
    "array"
   ]
  },
  {
   "cell_type": "code",
   "execution_count": 19,
   "metadata": {},
   "outputs": [
    {
     "data": {
      "text/plain": [
       "[1, 3, 4, 7]"
      ]
     },
     "execution_count": 19,
     "metadata": {},
     "output_type": "execute_result"
    }
   ],
   "source": [
    "array.sort()\n",
    "array"
   ]
  },
  {
   "cell_type": "code",
   "execution_count": 15,
   "metadata": {},
   "outputs": [
    {
     "data": {
      "text/plain": [
       "[1, 4, 7, 3, 'forest', 'nature', 'sea', 'sky', 'mountain']"
      ]
     },
     "execution_count": 15,
     "metadata": {},
     "output_type": "execute_result"
    }
   ],
   "source": [
    "array.extend(list)  # type: ignore\n",
    "array"
   ]
  },
  {
   "cell_type": "code",
   "execution_count": null,
   "metadata": {},
   "outputs": [
    {
     "data": {
      "text/plain": [
       "['sea', 'forest', 'sky', 'mountain']"
      ]
     },
     "execution_count": 25,
     "metadata": {},
     "output_type": "execute_result"
    }
   ],
   "source": [
    "list.pop(2)\n",
    "list"
   ]
  },
  {
   "cell_type": "code",
   "execution_count": 22,
   "metadata": {},
   "outputs": [
    {
     "data": {
      "text/plain": [
       "['mountain', 'sky', 'sea', 'nature', 'forest']"
      ]
     },
     "execution_count": 22,
     "metadata": {},
     "output_type": "execute_result"
    }
   ],
   "source": [
    "list.reverse()\n",
    "list"
   ]
  },
  {
   "cell_type": "code",
   "execution_count": null,
   "metadata": {},
   "outputs": [
    {
     "data": {
      "text/plain": [
       "[1, 3, 5, 4, 7]"
      ]
     },
     "execution_count": 28,
     "metadata": {},
     "output_type": "execute_result"
    }
   ],
   "source": [
    "array.insert(2, 5)\n",
    "array"
   ]
  },
  {
   "cell_type": "code",
   "execution_count": null,
   "metadata": {},
   "outputs": [
    {
     "data": {
      "text/plain": [
       "[1, 3, 5, 7]"
      ]
     },
     "execution_count": 37,
     "metadata": {},
     "output_type": "execute_result"
    }
   ],
   "source": [
    "array.remove(4)\n",
    "array"
   ]
  },
  {
   "cell_type": "code",
   "execution_count": null,
   "metadata": {},
   "outputs": [
    {
     "data": {
      "text/plain": [
       "0"
      ]
     },
     "execution_count": 50,
     "metadata": {},
     "output_type": "execute_result"
    }
   ],
   "source": [
    "array.index(1)"
   ]
  },
  {
   "cell_type": "code",
   "execution_count": null,
   "metadata": {},
   "outputs": [
    {
     "data": {
      "text/plain": [
       "[1, 3, 7]"
      ]
     },
     "execution_count": 52,
     "metadata": {},
     "output_type": "execute_result"
    }
   ],
   "source": [
    "array.pop(array.index(5))\n",
    "array"
   ]
  },
  {
   "cell_type": "code",
   "execution_count": null,
   "metadata": {},
   "outputs": [
    {
     "data": {
      "text/plain": [
       "['mountain', 'sky', 'forest', 'sea']"
      ]
     },
     "execution_count": 29,
     "metadata": {},
     "output_type": "execute_result"
    }
   ],
   "source": [
    "nature = list.copy()\n",
    "nature"
   ]
  },
  {
   "cell_type": "code",
   "execution_count": null,
   "metadata": {},
   "outputs": [
    {
     "data": {
      "text/plain": [
       "[]"
      ]
     },
     "execution_count": 30,
     "metadata": {},
     "output_type": "execute_result"
    }
   ],
   "source": [
    "list.clear()\n",
    "list"
   ]
  },
  {
   "cell_type": "markdown",
   "metadata": {},
   "source": [
    "Tuples\n"
   ]
  },
  {
   "cell_type": "code",
   "execution_count": null,
   "metadata": {},
   "outputs": [
    {
     "data": {
      "text/plain": [
       "[(6, 27), ('name', 'abdelilah'), ('profession', 'student')]"
      ]
     },
     "execution_count": 38,
     "metadata": {},
     "output_type": "execute_result"
    }
   ],
   "source": [
    "tuple = [(6, 27), (\"name\", \"Abdelilah\"), (\"profession\", \"student\")]\n",
    "tuple"
   ]
  },
  {
   "cell_type": "code",
   "execution_count": null,
   "metadata": {},
   "outputs": [
    {
     "data": {
      "text/plain": [
       "('name', 'abdelilah')"
      ]
     },
     "execution_count": 40,
     "metadata": {},
     "output_type": "execute_result"
    }
   ],
   "source": [
    "tuple[1]"
   ]
  },
  {
   "cell_type": "markdown",
   "metadata": {},
   "source": [
    "Function\n"
   ]
  },
  {
   "cell_type": "code",
   "execution_count": 26,
   "metadata": {},
   "outputs": [
    {
     "data": {
      "text/plain": [
       "'Hello World'"
      ]
     },
     "execution_count": 26,
     "metadata": {},
     "output_type": "execute_result"
    }
   ],
   "source": [
    "def hello():\n",
    "    return \"Hello World\"\n",
    "\n",
    "\n",
    "hello()"
   ]
  },
  {
   "cell_type": "code",
   "execution_count": null,
   "metadata": {},
   "outputs": [
    {
     "name": "stdout",
     "output_type": "stream",
     "text": [
      "4 + 6 = 10\n"
     ]
    }
   ],
   "source": [
    "def sum(x, y):\n",
    "    print(x, \"+\", y, \"=\", int(x) + int(y))\n",
    "\n",
    "\n",
    "a = input(\"Enter first number: \")\n",
    "b = input(\"Enter second number: \")\n",
    "\n",
    "sum(a, b)"
   ]
  },
  {
   "cell_type": "code",
   "execution_count": 27,
   "metadata": {},
   "outputs": [
    {
     "name": "stdout",
     "output_type": "stream",
     "text": [
      "6 + 2 = 8\n",
      "6 - 2 = 4\n",
      "6 x 2 = 12\n",
      "6 / 2 = 3.0\n",
      "6 % 2 = 0\n"
     ]
    }
   ],
   "source": [
    "def calculate(x, y):\n",
    "    print(x, \"+\", y, \"=\", x + y)\n",
    "    print(x, \"-\", y, \"=\", x - y)\n",
    "    print(x, \"x\", y, \"=\", x * y)\n",
    "    print(x, \"/\", y, \"=\", x / y)\n",
    "    print(x, \"%\", y, \"=\", x % y)\n",
    "\n",
    "\n",
    "a = int(input(\"Enter first number: \"))\n",
    "b = int(input(\"Enter second number: \"))\n",
    "\n",
    "calculate(a, b)"
   ]
  },
  {
   "cell_type": "markdown",
   "metadata": {},
   "source": [
    "Conditional Statement\n",
    "\n",
    "IF state\n"
   ]
  },
  {
   "cell_type": "code",
   "execution_count": 29,
   "metadata": {},
   "outputs": [
    {
     "name": "stdout",
     "output_type": "stream",
     "text": [
      "Are you hungry? if not don't write something\n",
      "food.ma\n"
     ]
    }
   ],
   "source": [
    "print(\"Are you hungry? if not don't write something\")\n",
    "fikJo3 = bool(input())\n",
    "# hungry sense\n",
    "if fikJo3:\n",
    "    print(\"food.ma\")\n",
    "else:\n",
    "    print(\"Drink water\")"
   ]
  },
  {
   "cell_type": "code",
   "execution_count": null,
   "metadata": {},
   "outputs": [
    {
     "data": {
      "text/plain": [
       "\"You're a short man\""
      ]
     },
     "execution_count": 3,
     "metadata": {},
     "output_type": "execute_result"
    }
   ],
   "source": [
    "isTall = False\n",
    "\n",
    "\n",
    "def man():\n",
    "    if isTall:\n",
    "        return \"You're a tall man\"\n",
    "    else:\n",
    "        return \"You're a short man\"\n",
    "\n",
    "\n",
    "man()"
   ]
  },
  {
   "cell_type": "code",
   "execution_count": null,
   "metadata": {},
   "outputs": [
    {
     "data": {
      "text/plain": [
       "\"You're a tall man\""
      ]
     },
     "execution_count": 8,
     "metadata": {},
     "output_type": "execute_result"
    }
   ],
   "source": [
    "g = input(\"Enter you gender: \")\n",
    "h = float(input(\"Enter you height: \"))\n",
    "\n",
    "isTall = \"You're a tall \"\n",
    "isShort = \"You're a short \"\n",
    "\n",
    "\n",
    "def man(g, h):\n",
    "    if g == \"male\":\n",
    "        if h >= 150:\n",
    "            return isTall + \"man\"\n",
    "        else:\n",
    "            return isShort + \"man\"\n",
    "    else:\n",
    "        # female gender\n",
    "        if h >= 150:\n",
    "            return isTall + \"woman\"\n",
    "        else:\n",
    "            return isShort + \"woman\"\n",
    "\n",
    "\n",
    "man(g, h)"
   ]
  },
  {
   "cell_type": "code",
   "execution_count": 30,
   "metadata": {},
   "outputs": [
    {
     "name": "stdout",
     "output_type": "stream",
     "text": [
      "3.0 % 3.0 = 0.0\n"
     ]
    }
   ],
   "source": [
    "def calculator(x, y, z):\n",
    "    if z == \"+\":\n",
    "        print(x, z, y, \"=\", x + y)\n",
    "    elif z == \"-\":\n",
    "        print(x, z, y, \"=\", x - y)\n",
    "    elif z == \"x\":\n",
    "        print(x, z, y, \"=\", x * y)\n",
    "    elif z == \"%\":\n",
    "        print(x, z, y, \"=\", x % y)\n",
    "    elif z == \"/\":\n",
    "        if y != 0:\n",
    "            print(x, z, y, \"=\", x / y)\n",
    "        else:\n",
    "            print(x, z, y, \",\", \"Invalid prompt! Impossible to divide by 0\")\n",
    "    else:\n",
    "        print(\"Invalid operator! Choose one of [+,-,x,/,%]\")\n",
    "\n",
    "\n",
    "a = float(input(\"Enter first number: \"))\n",
    "b = float(input(\"Enter second number: \"))\n",
    "c = input(\"Enter operator: \")\n",
    "\n",
    "calculator(a, b, c)"
   ]
  },
  {
   "cell_type": "code",
   "execution_count": 33,
   "metadata": {},
   "outputs": [
    {
     "data": {
      "text/plain": [
       "'3 $ 6=Invalid operator! Choose one of [+,-,x,/,%]'"
      ]
     },
     "execution_count": 33,
     "metadata": {},
     "output_type": "execute_result"
    }
   ],
   "source": [
    "def calculator(x, y, z):\n",
    "    if z == \"+\":\n",
    "        r = float(x) + float(y)\n",
    "    elif z == \"-\":\n",
    "        r = float(x) - float(y)\n",
    "    elif z == \"x\":\n",
    "        r = float(x) * float(y)\n",
    "    elif z == \"%\":\n",
    "        r = float(x) % float(y)\n",
    "    elif z == \"/\":\n",
    "        if float(y) == 0.0:\n",
    "            r = \"Invalid prompt! Impossible to divide by 0\"\n",
    "        else:\n",
    "            r = float(x) / float(y)\n",
    "    else:\n",
    "        r = \"Invalid operator! Choose one of [+,-,x,/,%]\"\n",
    "\n",
    "    return x + \" \" + z + \" \" + y + \" = \" + str(r)\n",
    "\n",
    "\n",
    "a = input(\"Enter first number: \")\n",
    "b = input(\"Enter second number: \")\n",
    "c = input(\"Enter operator: \")\n",
    "\n",
    "calculator(a, b, c)"
   ]
  },
  {
   "cell_type": "markdown",
   "metadata": {},
   "source": [
    "Dictionnaries\n"
   ]
  },
  {
   "cell_type": "code",
   "execution_count": null,
   "metadata": {},
   "outputs": [
    {
     "data": {
      "text/plain": [
       "{'Jan': 'January', 'Feb': 2, 'Mar': True}"
      ]
     },
     "execution_count": 62,
     "metadata": {},
     "output_type": "execute_result"
    }
   ],
   "source": [
    "Dict = {\"Jan\": \"January\", \"Feb\": 2, \"Mar\": True}\n",
    "Dict"
   ]
  },
  {
   "cell_type": "code",
   "execution_count": null,
   "metadata": {},
   "outputs": [
    {
     "data": {
      "text/plain": [
       "{'Jan': 'January', 'Feb': 2, 'Mar': 'Mars'}"
      ]
     },
     "execution_count": 65,
     "metadata": {},
     "output_type": "execute_result"
    }
   ],
   "source": [
    "Dict[\"Mar\"] = \"Mars\"\n",
    "Dict"
   ]
  },
  {
   "cell_type": "markdown",
   "metadata": {},
   "source": [
    "Loops\n",
    "\n",
    "While Loop\n"
   ]
  },
  {
   "cell_type": "code",
   "execution_count": null,
   "metadata": {},
   "outputs": [],
   "source": [
    "isHuman = True\n",
    "while isHuman:\n",
    "    # infinite loop\n",
    "    print(\"Hello Human\")"
   ]
  },
  {
   "cell_type": "code",
   "execution_count": 39,
   "metadata": {},
   "outputs": [
    {
     "name": "stdout",
     "output_type": "stream",
     "text": [
      "1\n",
      "2\n",
      "3\n"
     ]
    }
   ],
   "source": [
    "count = 1\n",
    "while count <= 3:\n",
    "    print(count)\n",
    "    count += 1"
   ]
  },
  {
   "cell_type": "code",
   "execution_count": 45,
   "metadata": {},
   "outputs": [
    {
     "name": "stdout",
     "output_type": "stream",
     "text": [
      "You won!\n"
     ]
    }
   ],
   "source": [
    "secretWord = \"black\"\n",
    "guessWord = input(\"Guess the secret word :\")\n",
    "\n",
    "if guessWord != secretWord:\n",
    "    print(\"You lost!\")\n",
    "else:\n",
    "    print(\"You won!\")"
   ]
  },
  {
   "cell_type": "code",
   "execution_count": 50,
   "metadata": {},
   "outputs": [
    {
     "name": "stdout",
     "output_type": "stream",
     "text": [
      "You lost!\n",
      "The word was: geeks\n"
     ]
    }
   ],
   "source": [
    "import random\n",
    "\n",
    "words = [\"stack\", \"geeks\", \"coder\", \"programmer\", \"python\"]\n",
    "secretWord = random.choice(words)\n",
    "# print(secretWord)\n",
    "\n",
    "guessCount = 0\n",
    "guessLimit = 3\n",
    "outOfGuess = False\n",
    "\n",
    "guessWord = input(\"Guess the secret word of \")\n",
    "\n",
    "while not (outOfGuess) and guessCount < guessLimit:\n",
    "    # remaining try\n",
    "    guessWord = input(\"Guess the secret word :\")\n",
    "    if guessWord == secretWord:\n",
    "        outOfGuess = True\n",
    "\n",
    "    # ended attempt\n",
    "    else:\n",
    "        guessCount += 1\n",
    "\n",
    "\n",
    "if outOfGuess:\n",
    "    print(\"You won!\")\n",
    "else:\n",
    "    print(\"You lost!\")\n",
    "\n",
    "print(\"The word was:\", secretWord)"
   ]
  },
  {
   "cell_type": "markdown",
   "metadata": {},
   "source": [
    "For Loop\n"
   ]
  },
  {
   "cell_type": "code",
   "execution_count": null,
   "metadata": {},
   "outputs": [
    {
     "name": "stdout",
     "output_type": "stream",
     "text": [
      "car\n",
      "plane\n",
      "boat\n"
     ]
    }
   ],
   "source": [
    "arr = [\"car\", \"plane\", \"boat\"]\n",
    "for i in range(len(arr)):\n",
    "    print(arr[i])"
   ]
  },
  {
   "cell_type": "code",
   "execution_count": null,
   "metadata": {},
   "outputs": [
    {
     "data": {
      "text/plain": [
       "['transport', 'transport', 'transport']"
      ]
     },
     "execution_count": 80,
     "metadata": {},
     "output_type": "execute_result"
    }
   ],
   "source": [
    "for i in range(len(arr)):\n",
    "    arr[i] = \"transport\"\n",
    "\n",
    "arr"
   ]
  }
 ],
 "metadata": {
  "kernelspec": {
   "display_name": "Python 3",
   "language": "python",
   "name": "python3"
  },
  "language_info": {
   "codemirror_mode": {
    "name": "ipython",
    "version": 3
   },
   "file_extension": ".py",
   "mimetype": "text/x-python",
   "name": "python",
   "nbconvert_exporter": "python",
   "pygments_lexer": "ipython3",
   "version": "3.11.3"
  },
  "orig_nbformat": 4
 },
 "nbformat": 4,
 "nbformat_minor": 2
}
