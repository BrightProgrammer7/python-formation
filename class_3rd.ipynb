{
 "cells": [
  {
   "cell_type": "markdown",
   "metadata": {},
   "source": [
    "Function with loop and conditional statement\n"
   ]
  },
  {
   "cell_type": "code",
   "execution_count": 1,
   "metadata": {},
   "outputs": [
    {
     "data": {
      "text/plain": [
       "'pythvn'"
      ]
     },
     "execution_count": 1,
     "metadata": {},
     "output_type": "execute_result"
    }
   ],
   "source": [
    "# find the vowels in a word and replace them with 'v' letter\n",
    "def findVowels(w):\n",
    "    # consonant variable\n",
    "    a = \"\"\n",
    "    # loop for every letter in the word\n",
    "    for l in w:\n",
    "        # verify if the letter is a vowel\n",
    "        if l in \"aeiou\":\n",
    "            # check if the letter is in uppercase\n",
    "            if l.isupper():\n",
    "                a += \"V\"\n",
    "            else:\n",
    "                a += \"v\"\n",
    "        else:\n",
    "            # add the letters to consonant variable\n",
    "            a += l\n",
    "\n",
    "    return a\n",
    "\n",
    "\n",
    "findVowels(\"python\")"
   ]
  },
  {
   "cell_type": "markdown",
   "metadata": {},
   "source": [
    "Matrix"
   ]
  },
  {
   "cell_type": "code",
   "execution_count": 2,
   "metadata": {},
   "outputs": [
    {
     "data": {
      "text/plain": [
       "[[1, 2, 3], ['a', 'b', 'c']]"
      ]
     },
     "execution_count": 2,
     "metadata": {},
     "output_type": "execute_result"
    }
   ],
   "source": [
    "matrix = [[1,2,3],['a','b','c']]\n",
    "matrix"
   ]
  },
  {
   "cell_type": "code",
   "execution_count": 3,
   "metadata": {},
   "outputs": [
    {
     "data": {
      "text/plain": [
       "2"
      ]
     },
     "execution_count": 3,
     "metadata": {},
     "output_type": "execute_result"
    }
   ],
   "source": [
    "matrix[0][1]"
   ]
  },
  {
   "cell_type": "markdown",
   "metadata": {},
   "source": [
    "Errors & Exceptions\n"
   ]
  },
  {
   "cell_type": "code",
   "execution_count": 4,
   "metadata": {},
   "outputs": [
    {
     "name": "stdout",
     "output_type": "stream",
     "text": [
      "Dominator cannot be zero\n"
     ]
    }
   ],
   "source": [
    "a = 2\n",
    "b = 'abc'\n",
    "try:\n",
    "    a / 0 \n",
    "    \n",
    "# handle error when cannot divide by zero as dominator\n",
    "except ZeroDivisionError as zero:\n",
    "    # print(zero)\n",
    "    print('Dominator cannot be zero')\n",
    "\n",
    "# handle error when cannot add number to a different type of varible\n",
    "except TypeError as error:\n",
    "    # print(error)\n",
    "    print('Addition cannot be with string')\n",
    "\n",
    "else:\n",
    "    print(a + b)"
   ]
  },
  {
   "cell_type": "markdown",
   "metadata": {},
   "source": [
    "Importing system files"
   ]
  },
  {
   "cell_type": "code",
   "execution_count": 5,
   "metadata": {},
   "outputs": [],
   "source": [
    "import sys\n",
    "sys.path.append(r'C:\\\\Users\\\\ODC\\\\Desktop\\\\Python-Traineeship\\\\') "
   ]
  },
  {
   "cell_type": "code",
   "execution_count": 6,
   "metadata": {},
   "outputs": [
    {
     "name": "stdout",
     "output_type": "stream",
     "text": [
      "Hello Abdelilah\n"
     ]
    }
   ],
   "source": [
    "import app\n",
    "app.Hello('Abdelilah')"
   ]
  },
  {
   "cell_type": "code",
   "execution_count": 7,
   "metadata": {},
   "outputs": [
    {
     "data": {
      "text/plain": [
       "9"
      ]
     },
     "execution_count": 7,
     "metadata": {},
     "output_type": "execute_result"
    }
   ],
   "source": [
    "app.power(3,2)"
   ]
  },
  {
   "cell_type": "code",
   "execution_count": 8,
   "metadata": {},
   "outputs": [
    {
     "data": {
      "text/plain": [
       "16"
      ]
     },
     "execution_count": 8,
     "metadata": {},
     "output_type": "execute_result"
    }
   ],
   "source": [
    "app.square(4)"
   ]
  },
  {
   "cell_type": "code",
   "execution_count": 9,
   "metadata": {},
   "outputs": [
    {
     "data": {
      "text/plain": [
       "15"
      ]
     },
     "execution_count": 9,
     "metadata": {},
     "output_type": "execute_result"
    }
   ],
   "source": [
    "app.multiply(3,5)"
   ]
  },
  {
   "cell_type": "markdown",
   "metadata": {},
   "source": [
    "Importing text files"
   ]
  },
  {
   "cell_type": "code",
   "execution_count": 14,
   "metadata": {},
   "outputs": [
    {
     "data": {
      "text/plain": [
       "True"
      ]
     },
     "execution_count": 14,
     "metadata": {},
     "output_type": "execute_result"
    }
   ],
   "source": [
    "path = 'Z:\\\\PyTraineeship\\\\python-traineeship\\\\data.txt'\n",
    "# read mode\n",
    "employee_jobs = open(path,'r')\n",
    "employee_jobs.readable()"
   ]
  },
  {
   "cell_type": "code",
   "execution_count": 12,
   "metadata": {},
   "outputs": [
    {
     "data": {
      "text/plain": [
       "['Abdelilah - Software Enginner \\n',\n",
       " 'Ahmed - Fullstack Developer \\n',\n",
       " 'Aymen - IOT Programmer\\n']"
      ]
     },
     "execution_count": 12,
     "metadata": {},
     "output_type": "execute_result"
    }
   ],
   "source": [
    "employee_jobs.readlines()"
   ]
  },
  {
   "cell_type": "code",
   "execution_count": 16,
   "metadata": {},
   "outputs": [],
   "source": [
    "# append mode\n",
    "employee_jobs = open(path,'a')\n",
    "employee_jobs.write('\\nFaysal - Machine Learning Engineer')\n",
    "employee_jobs.close()"
   ]
  },
  {
   "cell_type": "code",
   "execution_count": 22,
   "metadata": {},
   "outputs": [],
   "source": [
    "# overwrite mode\n",
    "employee_jobs = open(path,'w')\n",
    "employee_jobs.write(\"Abdelilah - Software Engineer\\nAhmed - Fullstack Developer\\nAymen - IOT Programmer\")\n",
    "employee_jobs.close()"
   ]
  }
 ],
 "metadata": {
  "kernelspec": {
   "display_name": "Python 3 (ipykernel)",
   "language": "python",
   "name": "python3"
  },
  "language_info": {
   "codemirror_mode": {
    "name": "ipython",
    "version": 3
   },
   "file_extension": ".py",
   "mimetype": "text/x-python",
   "name": "python",
   "nbconvert_exporter": "python",
   "pygments_lexer": "ipython3",
   "version": "3.11.3"
  }
 },
 "nbformat": 4,
 "nbformat_minor": 2
}
